{
 "cells": [
  {
   "cell_type": "code",
   "execution_count": 0,
   "metadata": {
    "application/vnd.databricks.v1+cell": {
     "cellMetadata": {
      "byteLimit": 2048000,
      "rowLimit": 10000
     },
     "inputWidgets": {},
     "nuid": "e922643b-7ae0-45df-9852-718f31ce5944",
     "showTitle": false,
     "title": ""
    }
   },
   "outputs": [],
   "source": [
    "import findspark\n",
    "findspark.init()\n",
    "import pyspark\n",
    "from pyspark.sql import SparkSession\n",
    "spark = SparkSession.builder.getOrCreate()\n",
    "from pyspark.sql.functions import *"
   ]
  },
  {
   "cell_type": "markdown",
   "metadata": {
    "application/vnd.databricks.v1+cell": {
     "cellMetadata": {},
     "inputWidgets": {},
     "nuid": "47056c83-3de6-4a74-8b0c-dcccf0d73b9c",
     "showTitle": false,
     "title": ""
    }
   },
   "source": [
    "# LOAN DATASET #"
   ]
  },
  {
   "cell_type": "code",
   "execution_count": 0,
   "metadata": {
    "application/vnd.databricks.v1+cell": {
     "cellMetadata": {
      "byteLimit": 2048000,
      "rowLimit": 10000
     },
     "inputWidgets": {},
     "nuid": "85f01c19-0370-483f-b56b-1361843e3916",
     "showTitle": false,
     "title": ""
    }
   },
   "outputs": [
    {
     "output_type": "execute_result",
     "data": {
      "text/plain": [
       "[FileInfo(path='dbfs:/Volumes/data_engineering/default/data/loan.csv', name='loan.csv', size=43967, modificationTime=1725654157000)]"
      ]
     },
     "execution_count": 33,
     "metadata": {},
     "output_type": "execute_result"
    }
   ],
   "source": [
    "dbutils.fs.ls(\"dbfs:/Volumes/data_engineering/default/data/loan.csv\")"
   ]
  },
  {
   "cell_type": "code",
   "execution_count": 0,
   "metadata": {
    "application/vnd.databricks.v1+cell": {
     "cellMetadata": {
      "byteLimit": 2048000,
      "rowLimit": 10000
     },
     "inputWidgets": {},
     "nuid": "e786e68c-10ef-4c01-9abd-47fc42641371",
     "showTitle": false,
     "title": ""
    }
   },
   "outputs": [],
   "source": [
    "#read in loan dataset\n",
    "loan_df = spark.read.csv(\"dbfs:/Volumes/data_engineering/default/data/loan.csv\", header=True, inferSchema=True)"
   ]
  },
  {
   "cell_type": "code",
   "execution_count": 0,
   "metadata": {
    "application/vnd.databricks.v1+cell": {
     "cellMetadata": {
      "byteLimit": 2048000,
      "rowLimit": 10000
     },
     "inputWidgets": {},
     "nuid": "72e780d0-e313-4450-9691-a3e9aad95203",
     "showTitle": false,
     "title": ""
    },
    "scrolled": true
   },
   "outputs": [
    {
     "output_type": "stream",
     "name": "stdout",
     "output_type": "stream",
     "text": [
      "root\n |-- Customer_ID: string (nullable = true)\n |-- Age: integer (nullable = true)\n |-- Gender: string (nullable = true)\n |-- Occupation: string (nullable = true)\n |-- Marital Status: string (nullable = true)\n |-- Family Size: integer (nullable = true)\n |-- Income: integer (nullable = true)\n |-- Expenditure: integer (nullable = true)\n |-- Use Frequency: integer (nullable = true)\n |-- Loan Category: string (nullable = true)\n |-- Loan Amount: string (nullable = true)\n |-- Overdue: integer (nullable = true)\n |--  Debt Record: string (nullable = true)\n |--  Returned Cheque: integer (nullable = true)\n |--  Dishonour of Bill: integer (nullable = true)\n\n"
     ]
    }
   ],
   "source": [
    "# Print the schema of the loan dataset\n",
    "loan_df.printSchema()"
   ]
  },
  {
   "cell_type": "code",
   "execution_count": 0,
   "metadata": {
    "application/vnd.databricks.v1+cell": {
     "cellMetadata": {
      "byteLimit": 2048000,
      "rowLimit": 10000
     },
     "inputWidgets": {},
     "nuid": "cb0ab442-cbcc-455e-b5bf-3f1f8907aff9",
     "showTitle": false,
     "title": ""
    }
   },
   "outputs": [
    {
     "output_type": "execute_result",
     "data": {
      "text/plain": [
       "['Customer_ID',\n",
       " 'Age',\n",
       " 'Gender',\n",
       " 'Occupation',\n",
       " 'Marital Status',\n",
       " 'Family Size',\n",
       " 'Income',\n",
       " 'Expenditure',\n",
       " 'Use Frequency',\n",
       " 'Loan Category',\n",
       " 'Loan Amount',\n",
       " 'Overdue',\n",
       " ' Debt Record',\n",
       " ' Returned Cheque',\n",
       " ' Dishonour of Bill']"
      ]
     },
     "execution_count": 237,
     "metadata": {},
     "output_type": "execute_result"
    }
   ],
   "source": [
    "loan_df.columns"
   ]
  },
  {
   "cell_type": "code",
   "execution_count": 0,
   "metadata": {
    "application/vnd.databricks.v1+cell": {
     "cellMetadata": {
      "byteLimit": 2048000,
      "rowLimit": 10000
     },
     "inputWidgets": {},
     "nuid": "5b1db28c-a7e1-4f1f-b01d-a638bebe6ef3",
     "showTitle": false,
     "title": ""
    },
    "scrolled": true
   },
   "outputs": [
    {
     "output_type": "stream",
     "name": "stdout",
     "output_type": "stream",
     "text": [
      "+-----------+---+------+------------+--------------+-----------+------+-----------+-------------+-------------+-----------+-------+------------+----------------+------------------+\n|Customer_ID|Age|Gender|  Occupation|Marital Status|Family Size|Income|Expenditure|Use Frequency|Loan Category|Loan Amount|Overdue| Debt Record| Returned Cheque| Dishonour of Bill|\n+-----------+---+------+------------+--------------+-----------+------+-----------+-------------+-------------+-----------+-------+------------+----------------+------------------+\n|    IB14001| 30|  MALE|BANK MANAGER|        SINGLE|          4| 50000|      22199|            6|      HOUSING| 10,00,000 |      5|      42,898|               6|                 9|\n|    IB14008| 44|  MALE|   PROFESSOR|       MARRIED|          6| 51000|      19999|            4|     SHOPPING|     50,000|      3|      33,999|               1|                 5|\n|    IB14012| 30|FEMALE|     DENTIST|        SINGLE|          3| 58450|      27675|            5|   TRAVELLING|     75,000|      6|      20,876|               3|                 1|\n|    IB14018| 29|  MALE|     TEACHER|       MARRIED|          5| 45767|      12787|            3|    GOLD LOAN|  6,00,000 |      7|      11,000|               0|                 4|\n|    IB14022| 34|  MALE|      POLICE|        SINGLE|          4| 43521|      11999|            3|   AUTOMOBILE|  2,00,000 |      2|      43,898|               1|                 2|\n+-----------+---+------+------------+--------------+-----------+------+-----------+-------------+-------------+-----------+-------+------------+----------------+------------------+\nonly showing top 5 rows\n\n"
     ]
    }
   ],
   "source": [
    "# Print the first 5 lines of the loan dataset\n",
    "display(loan_df.show(5))"
   ]
  },
  {
   "cell_type": "code",
   "execution_count": 0,
   "metadata": {
    "application/vnd.databricks.v1+cell": {
     "cellMetadata": {
      "byteLimit": 2048000,
      "rowLimit": 10000
     },
     "inputWidgets": {},
     "nuid": "e0b13b13-81e0-4ad7-be96-fd7d05148b82",
     "showTitle": false,
     "title": ""
    }
   },
   "outputs": [
    {
     "output_type": "stream",
     "name": "stdout",
     "output_type": "stream",
     "text": [
      "Shape of DataFrame: (500, 15)\nNumber of columns: 15\n"
     ]
    }
   ],
   "source": [
    "# Print the number of columns in the loan dataset\n",
    "num_rows = loan_df.count()\n",
    "num_columns = len(loan_df.columns)\n",
    "print(f\"Shape of DataFrame: ({num_rows}, {num_columns})\")\n",
    "print(f\"Number of columns: {num_columns}\")"
   ]
  },
  {
   "cell_type": "code",
   "execution_count": 0,
   "metadata": {
    "application/vnd.databricks.v1+cell": {
     "cellMetadata": {
      "byteLimit": 2048000,
      "rowLimit": 10000
     },
     "inputWidgets": {},
     "nuid": "3f298fd4-3bc1-4669-ab44-02f02178502b",
     "showTitle": false,
     "title": ""
    }
   },
   "outputs": [
    {
     "output_type": "stream",
     "name": "stdout",
     "output_type": "stream",
     "text": [
      "Number of rows: 500\n"
     ]
    }
   ],
   "source": [
    "# Print the number of rows in the loan dataset\n",
    "print(f\"Number of rows: {num_rows}\")"
   ]
  },
  {
   "cell_type": "code",
   "execution_count": 0,
   "metadata": {
    "application/vnd.databricks.v1+cell": {
     "cellMetadata": {
      "byteLimit": 2048000,
      "rowLimit": 10000
     },
     "inputWidgets": {},
     "nuid": "97fa8cc3-072f-4e47-8d90-548688d14adc",
     "showTitle": false,
     "title": ""
    }
   },
   "outputs": [
    {
     "output_type": "stream",
     "name": "stdout",
     "output_type": "stream",
     "text": [
      "Number of distinct records: 500\n"
     ]
    }
   ],
   "source": [
    "# Print the count of distinct records in the loan dataset\n",
    "print(f\"Number of distinct records: {loan_df.distinct().count()}\")"
   ]
  },
  {
   "cell_type": "code",
   "execution_count": 0,
   "metadata": {
    "application/vnd.databricks.v1+cell": {
     "cellMetadata": {
      "byteLimit": 2048000,
      "rowLimit": 10000
     },
     "inputWidgets": {},
     "nuid": "970f2440-db16-4c00-bed6-af4764a802f0",
     "showTitle": false,
     "title": ""
    },
    "scrolled": true
   },
   "outputs": [
    {
     "output_type": "stream",
     "name": "stdout",
     "output_type": "stream",
     "text": [
      "+------------------+-----+\n|     Loan Category|count|\n+------------------+-----+\n|           HOUSING|   67|\n|        TRAVELLING|   53|\n|       BOOK STORES|    7|\n|       AGRICULTURE|   12|\n|         GOLD LOAN|   77|\n|  EDUCATIONAL LOAN|   20|\n|        AUTOMOBILE|   60|\n|          BUSINESS|   24|\n|COMPUTER SOFTWARES|   35|\n|           DINNING|   14|\n|          SHOPPING|   35|\n|       RESTAURANTS|   41|\n|       ELECTRONICS|   14|\n|          BUILDING|    7|\n|        RESTAURANT|   20|\n|   HOME APPLIANCES|   14|\n+------------------+-----+\n\nNone\n"
     ]
    }
   ],
   "source": [
    "# find the number of loans in each category\n",
    "print(loan_df.groupBy(\"Loan Category\").count().show())"
   ]
  },
  {
   "cell_type": "code",
   "execution_count": 0,
   "metadata": {
    "application/vnd.databricks.v1+cell": {
     "cellMetadata": {
      "byteLimit": 2048000,
      "rowLimit": 10000
     },
     "inputWidgets": {},
     "nuid": "6305cf38-6dcf-4559-a17f-aa5af58dca15",
     "showTitle": false,
     "title": ""
    }
   },
   "outputs": [
    {
     "output_type": "stream",
     "name": "stdout",
     "output_type": "stream",
     "text": [
      "450\n"
     ]
    }
   ],
   "source": [
    "# find the number of people who have taken more than 1 lakh loan\n",
    "# Clean the 'Loan Amount' column by removing non-numeric characters and converting it to an integer\n",
    "from pyspark.sql import functions as F\n",
    "\n",
    "loan_df = loan_df.withColumn(\"Loan Amount\", F.regexp_replace(F.col(\"Loan Amount\"), \"[^0-9]\", \"\").cast(\"integer\"))\n",
    "\n",
    "# Filter for people who have taken a loan amount greater than 1 lakh (100,000)\n",
    "count_more_than_one_lakh = loan_df.filter(loan_df['Loan Amount'] > 100000).count()\n",
    "print(count_more_than_one_lakh)"
   ]
  },
  {
   "cell_type": "code",
   "execution_count": 0,
   "metadata": {
    "application/vnd.databricks.v1+cell": {
     "cellMetadata": {
      "byteLimit": 2048000,
      "rowLimit": 10000
     },
     "inputWidgets": {},
     "nuid": "1669d88a-814e-4158-b404-10bef5cf83f1",
     "showTitle": false,
     "title": ""
    },
    "scrolled": true
   },
   "outputs": [
    {
     "output_type": "stream",
     "name": "stdout",
     "output_type": "stream",
     "text": [
      "198\n"
     ]
    }
   ],
   "source": [
    "# find the number of people with income greater than 60000 rupees\n",
    "print(loan_df.filter(loan_df['Income'] > 60000).count())"
   ]
  },
  {
   "cell_type": "code",
   "execution_count": 0,
   "metadata": {
    "application/vnd.databricks.v1+cell": {
     "cellMetadata": {
      "byteLimit": 2048000,
      "rowLimit": 10000
     },
     "inputWidgets": {},
     "nuid": "3b6ba4a2-a08f-482a-9cf6-52fdc1e491e2",
     "showTitle": false,
     "title": ""
    }
   },
   "outputs": [
    {
     "output_type": "stream",
     "name": "stdout",
     "output_type": "stream",
     "text": [
      "137\n"
     ]
    }
   ],
   "source": [
    "# fidn the number of people with 2 or more returned cheques and income less than 50000\n",
    "print(loan_df.filter((loan_df['Income'] < 50000) & (loan_df[' Returned Cheque'] >= 2)).count())"
   ]
  },
  {
   "cell_type": "code",
   "execution_count": 0,
   "metadata": {
    "application/vnd.databricks.v1+cell": {
     "cellMetadata": {
      "byteLimit": 2048000,
      "rowLimit": 10000
     },
     "inputWidgets": {},
     "nuid": "01b288c5-8e01-4636-a1c1-28e33fe9551b",
     "showTitle": false,
     "title": ""
    }
   },
   "outputs": [
    {
     "output_type": "stream",
     "name": "stdout",
     "output_type": "stream",
     "text": [
      "111\n"
     ]
    }
   ],
   "source": [
    "# find the number of people with 2 or more returned cheques and are single\n",
    "print(loan_df.filter((loan_df['Marital Status'] == 'SINGLE') & (loan_df[' Returned Cheque'] >= 2)).count())"
   ]
  },
  {
   "cell_type": "code",
   "execution_count": 0,
   "metadata": {
    "application/vnd.databricks.v1+cell": {
     "cellMetadata": {
      "byteLimit": 2048000,
      "rowLimit": 10000
     },
     "inputWidgets": {},
     "nuid": "e14d147a-694f-4e95-a8ca-f48b9687d060",
     "showTitle": false,
     "title": ""
    },
    "scrolled": false
   },
   "outputs": [
    {
     "output_type": "stream",
     "name": "stdout",
     "output_type": "stream",
     "text": [
      "481\n"
     ]
    }
   ],
   "source": [
    "# find the  number of people with expenditure over 50000 a month \n",
    "print(loan_df.filter((loan_df['Expenditure'] > 5000)).count())"
   ]
  },
  {
   "cell_type": "markdown",
   "metadata": {
    "application/vnd.databricks.v1+cell": {
     "cellMetadata": {},
     "inputWidgets": {},
     "nuid": "f0e61af4-85d7-48c8-8b22-458ae0893dcf",
     "showTitle": false,
     "title": ""
    }
   },
   "source": [
    "# CREDIT CARD DATASET #"
   ]
  },
  {
   "cell_type": "code",
   "execution_count": 0,
   "metadata": {
    "application/vnd.databricks.v1+cell": {
     "cellMetadata": {
      "byteLimit": 2048000,
      "rowLimit": 10000
     },
     "inputWidgets": {},
     "nuid": "db638b63-7e08-4c0f-a3f2-6aa0ebf07727",
     "showTitle": false,
     "title": ""
    }
   },
   "outputs": [],
   "source": [
    "# Load the credit card dataset\n",
    "credit_df = spark.read.csv(\"dbfs:/Volumes/data_engineering/default/data/credit card.csv\", header=True, inferSchema=True)"
   ]
  },
  {
   "cell_type": "code",
   "execution_count": 0,
   "metadata": {
    "application/vnd.databricks.v1+cell": {
     "cellMetadata": {
      "byteLimit": 2048000,
      "rowLimit": 10000
     },
     "inputWidgets": {},
     "nuid": "96841bf6-f55f-4c9e-b48f-fe3a555612ab",
     "showTitle": false,
     "title": ""
    },
    "scrolled": true
   },
   "outputs": [
    {
     "output_type": "stream",
     "name": "stdout",
     "output_type": "stream",
     "text": [
      "root\n |-- RowNumber: integer (nullable = true)\n |-- CustomerId: integer (nullable = true)\n |-- Surname: string (nullable = true)\n |-- CreditScore: integer (nullable = true)\n |-- Geography: string (nullable = true)\n |-- Gender: string (nullable = true)\n |-- Age: integer (nullable = true)\n |-- Tenure: integer (nullable = true)\n |-- Balance: double (nullable = true)\n |-- NumOfProducts: integer (nullable = true)\n |-- IsActiveMember: integer (nullable = true)\n |-- EstimatedSalary: double (nullable = true)\n |-- Exited: integer (nullable = true)\n\n"
     ]
    }
   ],
   "source": [
    "# Print the schema of the credit card dataset\n",
    "credit_df.printSchema()"
   ]
  },
  {
   "cell_type": "code",
   "execution_count": 0,
   "metadata": {
    "application/vnd.databricks.v1+cell": {
     "cellMetadata": {
      "byteLimit": 2048000,
      "rowLimit": 10000
     },
     "inputWidgets": {},
     "nuid": "6efcef4a-46b0-4b6e-94cc-89bed0795600",
     "showTitle": false,
     "title": ""
    }
   },
   "outputs": [
    {
     "output_type": "stream",
     "name": "stdout",
     "output_type": "stream",
     "text": [
      "Number of columns: 13\n"
     ]
    }
   ],
   "source": [
    "# Print the number of columns in the credit card dataset\n",
    "credit_df_num_columns = len(credit_df.columns)\n",
    "print(f\"Number of columns: {credit_df_num_columns}\")\n"
   ]
  },
  {
   "cell_type": "code",
   "execution_count": 0,
   "metadata": {
    "application/vnd.databricks.v1+cell": {
     "cellMetadata": {
      "byteLimit": 2048000,
      "rowLimit": 10000
     },
     "inputWidgets": {},
     "nuid": "b00edb8d-d853-43e4-81b6-f819afd09316",
     "showTitle": false,
     "title": ""
    }
   },
   "outputs": [
    {
     "output_type": "stream",
     "name": "stdout",
     "output_type": "stream",
     "text": [
      "Number of rows: 10000\n"
     ]
    }
   ],
   "source": [
    "# Print the number of rows in the credit card dataset\n",
    "credit_df_num_rows = (credit_df.count())\n",
    "print(f\"Number of rows: {credit_df_num_rows}\")"
   ]
  },
  {
   "cell_type": "code",
   "execution_count": 0,
   "metadata": {
    "application/vnd.databricks.v1+cell": {
     "cellMetadata": {
      "byteLimit": 2048000,
      "rowLimit": 10000
     },
     "inputWidgets": {},
     "nuid": "ebb542fe-274a-4274-b99f-0aaf4b70ad5b",
     "showTitle": false,
     "title": ""
    }
   },
   "outputs": [
    {
     "output_type": "stream",
     "name": "stdout",
     "output_type": "stream",
     "text": [
      "Number of distinct records: 10000\n"
     ]
    }
   ],
   "source": [
    "# Print the number of distinct records in the credit card dataset\n",
    "credit_df_num_distinct = credit_df.distinct().count()\n",
    "print(f\"Number of distinct records: {credit_df_num_distinct}\")"
   ]
  },
  {
   "cell_type": "code",
   "execution_count": 0,
   "metadata": {
    "application/vnd.databricks.v1+cell": {
     "cellMetadata": {
      "byteLimit": 2048000,
      "rowLimit": 10000
     },
     "inputWidgets": {},
     "nuid": "6233ad3f-771c-4b5e-bb70-35cfe0d869da",
     "showTitle": false,
     "title": ""
    }
   },
   "outputs": [
    {
     "output_type": "stream",
     "name": "stdout",
     "output_type": "stream",
     "text": [
      "+---------+----------+--------+-----------+---------+------+---+------+---------+-------------+--------------+---------------+------+\n|RowNumber|CustomerId| Surname|CreditScore|Geography|Gender|Age|Tenure|  Balance|NumOfProducts|IsActiveMember|EstimatedSalary|Exited|\n+---------+----------+--------+-----------+---------+------+---+------+---------+-------------+--------------+---------------+------+\n|        1|  15634602|Hargrave|        619|   France|Female| 42|     2|      0.0|            1|             1|      101348.88|     1|\n|        2|  15647311|    Hill|        608|    Spain|Female| 41|     1| 83807.86|            1|             1|      112542.58|     0|\n|        3|  15619304|    Onio|        502|   France|Female| 42|     8| 159660.8|            3|             0|      113931.57|     1|\n|        4|  15701354|    Boni|        699|   France|Female| 39|     1|      0.0|            2|             0|       93826.63|     0|\n|        5|  15737888|Mitchell|        850|    Spain|Female| 43|     2|125510.82|            1|             1|        79084.1|     0|\n+---------+----------+--------+-----------+---------+------+---+------+---------+-------------+--------------+---------------+------+\nonly showing top 5 rows\n\nNone\n"
     ]
    }
   ],
   "source": [
    "# Print the first 5 rows in the credit card dataset\n",
    "print(credit_df.show(5))"
   ]
  },
  {
   "cell_type": "code",
   "execution_count": 0,
   "metadata": {
    "application/vnd.databricks.v1+cell": {
     "cellMetadata": {
      "byteLimit": 2048000,
      "rowLimit": 10000
     },
     "inputWidgets": {},
     "nuid": "e9681593-ac93-4ec4-bcea-af845988c66f",
     "showTitle": false,
     "title": ""
    },
    "scrolled": true
   },
   "outputs": [
    {
     "output_type": "stream",
     "name": "stdout",
     "output_type": "stream",
     "text": [
      "1713\n"
     ]
    }
   ],
   "source": [
    "# Find the number of members who are eligible for a credit card\n",
    "# Define the eligibility criteria\n",
    "\n",
    "eligible_customers = credit_df.filter(\n",
    "    (credit_df['CreditScore'] >= 650) &     # Minimum credit score of 650\n",
    "    (credit_df['Age']  >= 18) &              # At least 18 years old\n",
    "    (credit_df['Balance']  > 1000) &         # Minimum balance above 1000\n",
    "    (credit_df['NumOfProducts']  >= 1) &     # At least 1 product with the bank\n",
    "    (credit_df['IsActiveMember'] == 1)      # Must be an active member\n",
    ")\n",
    "print(eligible_customers.count())"
   ]
  },
  {
   "cell_type": "code",
   "execution_count": 0,
   "metadata": {
    "application/vnd.databricks.v1+cell": {
     "cellMetadata": {
      "byteLimit": 2048000,
      "rowLimit": 10000
     },
     "inputWidgets": {},
     "nuid": "47a2b23e-dbf7-4801-8a35-25dbede87f14",
     "showTitle": false,
     "title": ""
    }
   },
   "outputs": [
    {
     "output_type": "execute_result",
     "data": {
      "text/plain": [
       "5151"
      ]
     },
     "execution_count": 162,
     "metadata": {},
     "output_type": "execute_result"
    }
   ],
   "source": [
    "# Find the number of members who are  elgible and active in the bank\n",
    "credit_df.filter('IsActiveMember == 1').count()"
   ]
  },
  {
   "cell_type": "code",
   "execution_count": 0,
   "metadata": {
    "application/vnd.databricks.v1+cell": {
     "cellMetadata": {
      "byteLimit": 2048000,
      "rowLimit": 10000
     },
     "inputWidgets": {},
     "nuid": "ff1bfb8d-434f-47de-a96b-973929cf7766",
     "showTitle": false,
     "title": ""
    }
   },
   "outputs": [
    {
     "output_type": "execute_result",
     "data": {
      "text/plain": [
       "2477"
      ]
     },
     "execution_count": 176,
     "metadata": {},
     "output_type": "execute_result"
    }
   ],
   "source": [
    "# Find the credit card users in Spain \n",
    "credit_df.filter('Geography == \"Spain\"').count()"
   ]
  },
  {
   "cell_type": "code",
   "execution_count": 0,
   "metadata": {
    "application/vnd.databricks.v1+cell": {
     "cellMetadata": {
      "byteLimit": 2048000,
      "rowLimit": 10000
     },
     "inputWidgets": {},
     "nuid": "74f31407-f0bc-41d0-b232-daf9d698a3d1",
     "showTitle": false,
     "title": ""
    }
   },
   "outputs": [
    {
     "output_type": "execute_result",
     "data": {
      "text/plain": [
       "1044"
      ]
     },
     "execution_count": 189,
     "metadata": {},
     "output_type": "execute_result"
    }
   ],
   "source": [
    "# Find the credit card users with Estimated Salary greater than 100000 and have exited the card\n",
    "credit_df.filter((credit_df['EstimatedSalary'] > 100000) & (credit_df['Exited'] == 1)).count()"
   ]
  },
  {
   "cell_type": "code",
   "execution_count": 0,
   "metadata": {
    "application/vnd.databricks.v1+cell": {
     "cellMetadata": {
      "byteLimit": 2048000,
      "rowLimit": 10000
     },
     "inputWidgets": {},
     "nuid": "e654bfce-00b2-4510-a44e-d91ac7b7acd8",
     "showTitle": false,
     "title": ""
    },
    "scrolled": false
   },
   "outputs": [
    {
     "output_type": "execute_result",
     "data": {
      "text/plain": [
       "2432"
      ]
     },
     "execution_count": 185,
     "metadata": {},
     "output_type": "execute_result"
    }
   ],
   "source": [
    "# Find the credit card users with Estimated Salary less than 100000 and have more than 1 product\n",
    "credit_df.filter((credit_df['EstimatedSalary'] < 100000) & (credit_df['NumOfProducts'] > 1)).count()"
   ]
  },
  {
   "cell_type": "markdown",
   "metadata": {
    "application/vnd.databricks.v1+cell": {
     "cellMetadata": {},
     "inputWidgets": {},
     "nuid": "7c7d3132-06fc-48c1-af92-89b7968bc170",
     "showTitle": false,
     "title": ""
    }
   },
   "source": [
    "# TRANSACTION DATASET #"
   ]
  },
  {
   "cell_type": "code",
   "execution_count": 0,
   "metadata": {
    "application/vnd.databricks.v1+cell": {
     "cellMetadata": {
      "byteLimit": 2048000,
      "rowLimit": 10000
     },
     "inputWidgets": {},
     "nuid": "c0dee25f-e929-4e47-8afa-8f6467742f68",
     "showTitle": false,
     "title": ""
    }
   },
   "outputs": [],
   "source": [
    "# Load the transacton dataset\n",
    "transaction_df = spark.read.csv(\"dbfs:/Volumes/data_engineering/default/data/txn.csv\", header=True, inferSchema=True)"
   ]
  },
  {
   "cell_type": "code",
   "execution_count": 0,
   "metadata": {
    "application/vnd.databricks.v1+cell": {
     "cellMetadata": {
      "byteLimit": 2048000,
      "rowLimit": 10000
     },
     "inputWidgets": {},
     "nuid": "76ac1e93-6b64-4f18-994d-62002fcf4f57",
     "showTitle": false,
     "title": ""
    }
   },
   "outputs": [
    {
     "output_type": "stream",
     "name": "stdout",
     "output_type": "stream",
     "text": [
      "root\n |-- Account No: string (nullable = true)\n |-- TRANSACTION DETAILS: string (nullable = true)\n |-- VALUE DATE: string (nullable = true)\n |--  WITHDRAWAL AMT : double (nullable = true)\n |--  DEPOSIT AMT : double (nullable = true)\n |-- BALANCE AMT: double (nullable = true)\n\n"
     ]
    }
   ],
   "source": [
    "# Print the schema of the transacton dataset\n",
    "transaction_df.printSchema()"
   ]
  },
  {
   "cell_type": "code",
   "execution_count": 0,
   "metadata": {
    "application/vnd.databricks.v1+cell": {
     "cellMetadata": {
      "byteLimit": 2048000,
      "rowLimit": 10000
     },
     "inputWidgets": {},
     "nuid": "2b2f65d3-3016-41be-bdf4-d42f11bb9660",
     "showTitle": false,
     "title": ""
    }
   },
   "outputs": [
    {
     "output_type": "execute_result",
     "data": {
      "text/plain": [
       "['Account No',\n",
       " 'TRANSACTION DETAILS',\n",
       " 'VALUE DATE',\n",
       " ' WITHDRAWAL AMT ',\n",
       " ' DEPOSIT AMT ',\n",
       " 'BALANCE AMT']"
      ]
     },
     "execution_count": 202,
     "metadata": {},
     "output_type": "execute_result"
    }
   ],
   "source": [
    "transaction_df.columns"
   ]
  },
  {
   "cell_type": "code",
   "execution_count": 0,
   "metadata": {
    "application/vnd.databricks.v1+cell": {
     "cellMetadata": {
      "byteLimit": 2048000,
      "rowLimit": 10000
     },
     "inputWidgets": {},
     "nuid": "1c171b91-adaf-4a08-90b4-83cd3ad0eaf8",
     "showTitle": false,
     "title": ""
    }
   },
   "outputs": [
    {
     "output_type": "stream",
     "name": "stdout",
     "output_type": "stream",
     "text": [
      "+-------------+-----+\n|   Account No|count|\n+-------------+-----+\n|409000438611'| 4588|\n|     1196711'|10536|\n|     1196428'|48779|\n|409000493210'| 6014|\n|409000611074'| 1093|\n|409000425051'|  802|\n|409000405747'|   51|\n|409000493201'| 1044|\n|409000438620'|13454|\n|409000362497'|29840|\n+-------------+-----+\n\n"
     ]
    }
   ],
   "source": [
    "#COUNT OF TRANSACTION ON EVERY ACCOUNT\n",
    "transaction_df.groupBy(\"Account No\").count().show()"
   ]
  },
  {
   "cell_type": "code",
   "execution_count": 0,
   "metadata": {
    "application/vnd.databricks.v1+cell": {
     "cellMetadata": {
      "byteLimit": 2048000,
      "rowLimit": 10000
     },
     "inputWidgets": {},
     "nuid": "aa14fa57-393a-4c9d-9bc8-d23ae478ddb8",
     "showTitle": false,
     "title": ""
    }
   },
   "outputs": [
    {
     "output_type": "stream",
     "name": "stdout",
     "output_type": "stream",
     "text": [
      "+-------------+---------------------+\n|   Account No|max( WITHDRAWAL AMT )|\n+-------------+---------------------+\n|409000438611'|                2.4E8|\n|     1196711'|        4.594475464E8|\n|     1196428'|                1.5E8|\n|409000493210'|                1.5E7|\n|409000611074'|             912000.0|\n|409000425051'|               3.54E8|\n|409000405747'|                1.7E8|\n|409000493201'|            2500000.0|\n|409000438620'|                4.0E8|\n|409000362497'|        1.413662392E8|\n+-------------+---------------------+\n\n"
     ]
    }
   ],
   "source": [
    "# Find the Maximum withdrawal amount for each account\n",
    "transaction_df.groupby('Account No').max(' WITHDRAWAL AMT ').show()"
   ]
  },
  {
   "cell_type": "code",
   "execution_count": 0,
   "metadata": {
    "application/vnd.databricks.v1+cell": {
     "cellMetadata": {
      "byteLimit": 2048000,
      "rowLimit": 10000
     },
     "inputWidgets": {},
     "nuid": "7f2731c0-21a4-4920-b92e-c1dc860bb7ad",
     "showTitle": false,
     "title": ""
    }
   },
   "outputs": [
    {
     "output_type": "stream",
     "name": "stdout",
     "output_type": "stream",
     "text": [
      "+-------------+---------------------+\n|   Account No|min( WITHDRAWAL AMT )|\n+-------------+---------------------+\n|409000493210'|                 0.01|\n+-------------+---------------------+\nonly showing top 1 row\n\n"
     ]
    }
   ],
   "source": [
    "#MINIMUM WITHDRAWAL AMOUNT OF AN ACCOUNT\n",
    "transaction_df.groupby('Account No').min(' WITHDRAWAL AMT ').orderBy('min( WITHDRAWAL AMT )').show(1)"
   ]
  },
  {
   "cell_type": "code",
   "execution_count": 0,
   "metadata": {
    "application/vnd.databricks.v1+cell": {
     "cellMetadata": {
      "byteLimit": 2048000,
      "rowLimit": 10000
     },
     "inputWidgets": {},
     "nuid": "ca8e4144-b340-4a60-a1b6-745a9c730708",
     "showTitle": false,
     "title": ""
    },
    "scrolled": true
   },
   "outputs": [
    {
     "output_type": "stream",
     "name": "stdout",
     "output_type": "stream",
     "text": [
      "+-------------+------------------+\n|   Account No|max( DEPOSIT AMT )|\n+-------------+------------------+\n|409000493201'|         1000000.0|\n+-------------+------------------+\nonly showing top 1 row\n\n"
     ]
    }
   ],
   "source": [
    "#MAXIMUM DEPOSIT AMOUNT OF AN ACCOUNT\n",
    "transaction_df.groupby('Account No').max(' DEPOSIT AMT ').orderBy('max( DEPOSIT AMT )').show(1)"
   ]
  },
  {
   "cell_type": "code",
   "execution_count": 0,
   "metadata": {
    "application/vnd.databricks.v1+cell": {
     "cellMetadata": {
      "byteLimit": 2048000,
      "rowLimit": 10000
     },
     "inputWidgets": {},
     "nuid": "96cbbb0e-9a46-48a8-b9c6-15755184f9a7",
     "showTitle": false,
     "title": ""
    }
   },
   "outputs": [
    {
     "output_type": "stream",
     "name": "stdout",
     "output_type": "stream",
     "text": [
      "+-------------+------------------+\n|   Account No|min( DEPOSIT AMT )|\n+-------------+------------------+\n|409000493210'|              0.01|\n+-------------+------------------+\nonly showing top 1 row\n\n"
     ]
    }
   ],
   "source": [
    "#MINIMUM DEPOSIT AMOUNT OF AN ACCOUNT\n",
    "transaction_df.groupby('Account No').min(' DEPOSIT AMT ').orderBy('min( DEPOSIT AMT )').show(1)"
   ]
  },
  {
   "cell_type": "code",
   "execution_count": 0,
   "metadata": {
    "application/vnd.databricks.v1+cell": {
     "cellMetadata": {
      "byteLimit": 2048000,
      "rowLimit": 10000
     },
     "inputWidgets": {},
     "nuid": "b648785e-fade-4e86-8b10-c9dd250cfa4c",
     "showTitle": false,
     "title": ""
    }
   },
   "outputs": [
    {
     "output_type": "stream",
     "name": "stdout",
     "output_type": "stream",
     "text": [
      "+-------------+--------------------+\n|   Account No|    sum(BALANCE AMT)|\n+-------------+--------------------+\n|     1196428'| -8.1418498130721E13|\n|409000362497'| -5.2860004792808E13|\n|     1196711'|-1.60476498101275E13|\n|409000438620'|-7.12291867951358...|\n|409000493210'|-3.27584952132095...|\n|409000438611'|-2.49486577068339...|\n|409000405747'|-2.43108047067000...|\n|409000425051'|-3.77211841164998...|\n|409000493201'|1.0420831829499985E9|\n|409000611074'|       1.615533622E9|\n+-------------+--------------------+\n\n"
     ]
    }
   ],
   "source": [
    "#sum of balance in every bank account\n",
    "transaction_df.groupby('Account No').sum('BALANCE AMT').orderBy('sum(BALANCE AMT)').show()"
   ]
  },
  {
   "cell_type": "code",
   "execution_count": 0,
   "metadata": {
    "application/vnd.databricks.v1+cell": {
     "cellMetadata": {
      "byteLimit": 2048000,
      "rowLimit": 10000
     },
     "inputWidgets": {},
     "nuid": "f420bf72-3ad9-42e5-8844-ef4b26167bdb",
     "showTitle": false,
     "title": ""
    },
    "scrolled": true
   },
   "outputs": [
    {
     "output_type": "stream",
     "name": "stdout",
     "output_type": "stream",
     "text": [
      "+----------+-----+\n|VALUE DATE|count|\n+----------+-----+\n| 22-Jul-17|    1|\n| 23-Apr-16|    1|\n| 13-Sep-16|    1|\n| 29-Jan-17|    1|\n|  9-Oct-16|    1|\n| 12-Jul-15|    1|\n|  3-Jun-18|    1|\n| 16-Aug-15|    1|\n| 13-Oct-18|    1|\n| 13-Sep-15|    1|\n| 18-Nov-18|    1|\n| 11-Oct-16|    1|\n| 14-Nov-15|    1|\n| 17-Jul-16|    1|\n| 15-Aug-15|    1|\n|  3-Jul-16|    1|\n|  3-Apr-15|    1|\n| 25-Dec-18|    1|\n|  9-Feb-19|    1|\n| 27-Feb-16|    1|\n+----------+-----+\nonly showing top 20 rows\n\n"
     ]
    }
   ],
   "source": [
    "#Number of transaction on each date\n",
    "transaction_df.groupby('VALUE DATE').count().orderBy('count').show()"
   ]
  },
  {
   "cell_type": "code",
   "execution_count": 0,
   "metadata": {
    "application/vnd.databricks.v1+cell": {
     "cellMetadata": {
      "byteLimit": 2048000,
      "rowLimit": 10000
     },
     "inputWidgets": {},
     "nuid": "7c609a97-e9be-4ca5-bd2d-182b8fe81766",
     "showTitle": false,
     "title": ""
    }
   },
   "outputs": [
    {
     "output_type": "stream",
     "name": "stdout",
     "output_type": "stream",
     "text": [
      "+-------------+---------------------+\n|   Account No|sum( WITHDRAWAL AMT )|\n+-------------+---------------------+\n|409000438611'|  4.705551279080001E9|\n|     1196711'| 4.692584040299003E10|\n|     1196428'| 6.848282907086004E10|\n|409000493210'| 1.0060492432000004E8|\n|409000611074'|         1.45397419E8|\n|409000425051'|        3.845102355E8|\n|409000405747'|        4.203178862E8|\n|409000493201'|  9.537793091999999E7|\n|409000438620'| 1.719608322354001...|\n|409000362497'| 1.019351199124101...|\n+-------------+---------------------+\n\n"
     ]
    }
   ],
   "source": [
    "#List of customers with withdrawal amount more than 1 lakh\n",
    "transaction_df.groupby('Account No').sum(' WITHDRAWAL AMT ').filter(col('sum( WITHDRAWAL AMT )') > 100000).show()"
   ]
  }
 ],
 "metadata": {
  "application/vnd.databricks.v1+notebook": {
   "dashboards": [],
   "environmentMetadata": {
    "base_environment": "",
    "client": "1"
   },
   "language": "python",
   "notebookMetadata": {
    "mostRecentlyExecutedCommandWithImplicitDF": {
     "commandId": -1,
     "dataframes": [
      "_sqldf"
     ]
    },
    "pythonIndentUnit": 4
   },
   "notebookName": "banking_lab",
   "widgets": {}
  },
  "kernelspec": {
   "display_name": "Python 3",
   "language": "python",
   "name": "python3"
  },
  "language_info": {
   "codemirror_mode": {
    "name": "ipython",
    "version": 3
   },
   "file_extension": ".py",
   "mimetype": "text/x-python",
   "name": "python",
   "nbconvert_exporter": "python",
   "pygments_lexer": "ipython3",
   "version": "3.8.8"
  }
 },
 "nbformat": 4,
 "nbformat_minor": 0
}
